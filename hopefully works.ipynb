{
 "cells": [
  {
   "cell_type": "code",
   "execution_count": 1,
   "metadata": {},
   "outputs": [
    {
     "name": "stdout",
     "output_type": "stream",
     "text": [
      "[nltk_data] Downloading package stopwords to\n",
      "[nltk_data]     C:\\Users\\admin\\AppData\\Roaming\\nltk_data...\n",
      "[nltk_data]   Package stopwords is already up-to-date!\n"
     ]
    }
   ],
   "source": [
    "import numpy as np\n",
    "import pandas as pd\n",
    "import os\n",
    "\n",
    "import matplotlib\n",
    "#matplotlib.use('agg')\n",
    "import matplotlib.pyplot as plt\n",
    "import seaborn as sns\n",
    "\n",
    "import plotly\n",
    "plotly.tools.set_credentials_file(username='vvr', api_key='Ker155UU70wk3Ccz6iyM')\n",
    "import plotly.plotly as py\n",
    "import plotly.graph_objs as go\n",
    "\n",
    "color = sns.color_palette(\"husl\", 8)\n",
    "\n",
    "import sklearn\n",
    "from sklearn.preprocessing import LabelEncoder\n",
    "from sklearn.feature_extraction.text import TfidfVectorizer\n",
    "\n",
    "\n",
    "%matplotlib inline\n",
    "\n",
    "# import squarify\n",
    "\n",
    "import nltk\n",
    "nltk.download('stopwords')\n",
    "from nltk.corpus import stopwords\n",
    "from nltk import sent_tokenize, word_tokenize\n",
    "#from wordcloud import WordCloud, STOPWORDS\n",
    "from collections import Counter\n",
    "from nltk.tokenize import RegexpTokenizer\n",
    "from stop_words import get_stop_words\n",
    "from nltk.corpus import stopwords\n",
    "from nltk import sent_tokenize, word_tokenize\n",
    "import re\n",
    "\n",
    "from pandas import Series\n",
    "from datetime import date\n",
    "\n",
    "from scipy.sparse import coo_matrix, hstack\n"
   ]
  },
  {
   "cell_type": "code",
   "execution_count": 2,
   "metadata": {},
   "outputs": [],
   "source": [
    "train= pd.read_csv('train.csv')\n",
    "test = pd.read_csv('test.csv')\n",
    "data = pd.read_csv('campaign_data.csv')\n",
    "submission = pd.read_csv('sample_submission_4fcZwvQ.csv')\n",
    "submission1 = pd.read_csv('sample_submission_4fcZwvQ.csv')"
   ]
  },
  {
   "cell_type": "code",
   "execution_count": 3,
   "metadata": {},
   "outputs": [],
   "source": [
    "submission2 = pd.read_csv('sample_submission_4fcZwvQ.csv')"
   ]
  },
  {
   "cell_type": "code",
   "execution_count": 4,
   "metadata": {},
   "outputs": [],
   "source": [
    "submission3 = pd.read_csv('sample_submission_4fcZwvQ.csv')"
   ]
  },
  {
   "cell_type": "code",
   "execution_count": 5,
   "metadata": {},
   "outputs": [],
   "source": [
    "submission4 = pd.read_csv('sample_submission_4fcZwvQ.csv')"
   ]
  },
  {
   "cell_type": "code",
   "execution_count": 6,
   "metadata": {},
   "outputs": [],
   "source": [
    "submission5 = pd.read_csv('sample_submission_4fcZwvQ.csv')\n",
    "submission6 = pd.read_csv('sample_submission_4fcZwvQ.csv')\n",
    "submission7 = pd.read_csv('sample_submission_4fcZwvQ.csv')\n",
    "submission8 = pd.read_csv('sample_submission_4fcZwvQ.csv')\n",
    "submission9 = pd.read_csv('sample_submission_4fcZwvQ.csv')\n",
    "submission10 = pd.read_csv('sample_submission_4fcZwvQ.csv')\n",
    "submission11 = pd.read_csv('sample_submission_4fcZwvQ.csv')\n",
    "submission12 = pd.read_csv('sample_submission_4fcZwvQ.csv')\n"
   ]
  },
  {
   "cell_type": "code",
   "execution_count": 7,
   "metadata": {},
   "outputs": [],
   "source": [
    "train.columns  = ['id', 'userid', 'campaignid', 'send_date', 'open', 'click']"
   ]
  },
  {
   "cell_type": "code",
   "execution_count": 8,
   "metadata": {},
   "outputs": [],
   "source": [
    "import re\n",
    "\n",
    "data['subject'] = data['subject'].map(lambda x: re.sub(r'\\W+', ' ', x))\n",
    "data['email_body'] = data['email_body'].map(lambda x: re.sub(r'\\W+', ' ', x))\n",
    "\n",
    "data['subject'] = data['subject'].apply(lambda x: \" \".join(x.lower() for x in x.split()))\n",
    "data['email_body'] = data['email_body'].apply(lambda x: \" \".join(x.lower() for x in x.split()))\n",
    "\n",
    "\n",
    "def pir(data):\n",
    "    t = data.text.str.split(expand=True).stack()\n",
    "    return t.loc[t.str.len() >= 3].groupby(level=0).apply(' '.join)\n",
    "\n",
    "data['subject'] = data['subject'].str.findall('\\w{3,}').str.join(' ')\n",
    "data['email_body'] = data['email_body'].str.findall('\\w{3,}').str.join(' ')"
   ]
  },
  {
   "cell_type": "code",
   "execution_count": 9,
   "metadata": {},
   "outputs": [],
   "source": [
    "import nltk\n",
    "data['subject'] = data.apply(lambda row: nltk.word_tokenize(row['subject']), axis=1)\n",
    "data['email_body'] = data.apply(lambda row: nltk.word_tokenize(row['email_body']), axis=1)\n",
    "\n",
    "\n",
    "from nltk.stem.snowball import SnowballStemmer\n",
    "stemmer = SnowballStemmer(\"english\")\n",
    "\n",
    "data['subject'] = data[\"subject\"].apply(lambda x: [stemmer.stem(y) for y in x])\n",
    "data['email_body'] = data[\"email_body\"].apply(lambda x: [stemmer.stem(y) for y in x])\n",
    "\n",
    "\n",
    "from nltk.corpus import stopwords\n",
    "stop = stopwords.words('english')\n",
    "\n",
    "data['subject'] = data['subject'].apply(lambda x: ' '.join([word for word in x if word not in (stop)]))\n",
    "data['email_body'] = data['email_body'].apply(lambda x: ' '.join([word for word in x if word not in (stop)]))"
   ]
  },
  {
   "cell_type": "markdown",
   "metadata": {},
   "source": [
    "# TFIDF"
   ]
  },
  {
   "cell_type": "code",
   "execution_count": 10,
   "metadata": {},
   "outputs": [],
   "source": [
    "from sklearn.feature_extraction.text import TfidfVectorizer\n",
    "tfidf = TfidfVectorizer(sublinear_tf=True, min_df=5, norm='l2', encoding='latin-1', ngram_range=(1, 2), stop_words='english')\n",
    "\n",
    "data['subject'] = tfidf.fit_transform(data['subject']).toarray()\n",
    "data['email_body'] = tfidf.fit_transform(data['email_body']).toarray()"
   ]
  },
  {
   "cell_type": "markdown",
   "metadata": {},
   "source": [
    "# Label Encoding"
   ]
  },
  {
   "cell_type": "code",
   "execution_count": 11,
   "metadata": {},
   "outputs": [],
   "source": [
    "le = LabelEncoder()\n",
    "le.fit(data['communication_type'])\n",
    "\n",
    "data['communication_type'] =  le.transform(data['communication_type'])\n",
    "\n",
    "data.drop('email_url', axis=1, inplace = True)\n"
   ]
  },
  {
   "cell_type": "markdown",
   "metadata": {},
   "source": [
    "# Concating"
   ]
  },
  {
   "cell_type": "code",
   "execution_count": 12,
   "metadata": {},
   "outputs": [],
   "source": [
    "#print(train.head())\n",
    "\n",
    "train['new_campain_id'] = train[\"campaignid\"]\n",
    "train['inddex'] = train.index\n",
    "\n",
    "train.set_index('new_campain_id', inplace = True)\n",
    "\n",
    "test['new_campain_id'] = test[\"campaign_id\"]\n",
    "test['inddex'] = test.index\n",
    "test.set_index('campaign_id', inplace = True)\n",
    "data.set_index('campaign_id', inplace = True)\n",
    "\n",
    "train = pd.merge(train, data, left_index=True, right_index=True)\n",
    "\n",
    "test = pd.merge(test, data, left_index=True, right_index=True)"
   ]
  },
  {
   "cell_type": "code",
   "execution_count": 13,
   "metadata": {},
   "outputs": [],
   "source": [
    "train.set_index('inddex', inplace = True)\n",
    "train.sort_index(inplace = True)\n"
   ]
  },
  {
   "cell_type": "code",
   "execution_count": 14,
   "metadata": {},
   "outputs": [],
   "source": [
    "test.set_index('inddex', inplace = True)\n",
    "test.sort_index(inplace = True)"
   ]
  },
  {
   "cell_type": "markdown",
   "metadata": {},
   "source": [
    "# DateTime"
   ]
  },
  {
   "cell_type": "code",
   "execution_count": 15,
   "metadata": {},
   "outputs": [
    {
     "name": "stderr",
     "output_type": "stream",
     "text": [
      "c:\\users\\admin\\appdata\\local\\programs\\python\\python36\\lib\\site-packages\\pandas\\core\\internals.py:3224: FutureWarning:\n",
      "\n",
      "Passing in 'datetime64' dtype with no frequency is deprecated and will raise in a future version. Please pass in 'datetime64[ns]' instead.\n",
      "\n"
     ]
    }
   ],
   "source": [
    "train['send_date'] = pd.to_datetime(train['send_date'])\n",
    "\n",
    "train['new_date_int'] = Series(train['send_date'].dt.date, dtype='datetime64')\n",
    "train['new_date_int'] = train['new_date_int'].view('int64')\n"
   ]
  },
  {
   "cell_type": "code",
   "execution_count": 16,
   "metadata": {},
   "outputs": [
    {
     "name": "stderr",
     "output_type": "stream",
     "text": [
      "c:\\users\\admin\\appdata\\local\\programs\\python\\python36\\lib\\site-packages\\pandas\\core\\internals.py:3224: FutureWarning:\n",
      "\n",
      "Passing in 'datetime64' dtype with no frequency is deprecated and will raise in a future version. Please pass in 'datetime64[ns]' instead.\n",
      "\n"
     ]
    }
   ],
   "source": [
    "test['send_date'] = pd.to_datetime(test['send_date'])\n",
    "\n",
    "test['new_date_int'] = Series(test['send_date'].dt.date, dtype='datetime64')\n",
    "test['new_date_int'] = test['new_date_int'].view('int64')"
   ]
  },
  {
   "cell_type": "markdown",
   "metadata": {},
   "source": [
    "# Model Preparition"
   ]
  },
  {
   "cell_type": "code",
   "execution_count": 17,
   "metadata": {},
   "outputs": [],
   "source": [
    "X_train = train[['userid', 'campaignid',\n",
    "       'communication_type', 'total_links', 'no_of_internal_links',\n",
    "       'no_of_images', 'no_of_sections', 'email_body', 'subject',\n",
    "       'new_date_int']].copy()"
   ]
  },
  {
   "cell_type": "code",
   "execution_count": 18,
   "metadata": {},
   "outputs": [],
   "source": [
    "y_train = train[['open', 'click']].copy()"
   ]
  },
  {
   "cell_type": "code",
   "execution_count": 19,
   "metadata": {},
   "outputs": [],
   "source": [
    "X_test = test[['user_id', 'new_campain_id', 'communication_type',\n",
    "       'total_links', 'no_of_internal_links', 'no_of_images', 'no_of_sections',\n",
    "       'email_body', 'subject', 'new_date_int']]"
   ]
  },
  {
   "cell_type": "markdown",
   "metadata": {},
   "source": [
    "# Hopefully Works Network"
   ]
  },
  {
   "cell_type": "code",
   "execution_count": 20,
   "metadata": {},
   "outputs": [],
   "source": [
    "# cols_target = ['click', 'open']\n",
    "cols_target = ['click']"
   ]
  },
  {
   "cell_type": "code",
   "execution_count": 21,
   "metadata": {},
   "outputs": [
    {
     "data": {
      "text/plain": [
       "userid                  0\n",
       "campaignid              0\n",
       "communication_type      0\n",
       "total_links             0\n",
       "no_of_internal_links    0\n",
       "no_of_images            0\n",
       "no_of_sections          0\n",
       "email_body              0\n",
       "subject                 0\n",
       "new_date_int            0\n",
       "dtype: int64"
      ]
     },
     "execution_count": 21,
     "metadata": {},
     "output_type": "execute_result"
    }
   ],
   "source": [
    "X_train.isnull().sum()"
   ]
  },
  {
   "cell_type": "code",
   "execution_count": 22,
   "metadata": {},
   "outputs": [],
   "source": [
    "from sklearn.linear_model import LogisticRegression\n",
    "from sklearn.metrics import accuracy_score\n",
    "logreg = LogisticRegression(C=12.0)\n",
    "\n",
    "\n",
    "y = train['click']\n",
    "# train the model using X_dtm & y\n",
    "logreg.fit(X_train, y)\n",
    "# compute the training accuracy\n",
    "#y_pred_X = logreg.predict(X_dtm)\n",
    "#print('Training accuracy is {}'.format(accuracy_score(y, y_pred_X)))\n",
    "# compute the predicted probabilities for X_test_dtm\n",
    "test_y_prob = logreg.predict_proba(X_test)[:,1]\n",
    "submission1['is_click'] = test_y_prob"
   ]
  },
  {
   "cell_type": "code",
   "execution_count": 23,
   "metadata": {},
   "outputs": [
    {
     "data": {
      "text/html": [
       "<div>\n",
       "<style>\n",
       "    .dataframe thead tr:only-child th {\n",
       "        text-align: right;\n",
       "    }\n",
       "\n",
       "    .dataframe thead th {\n",
       "        text-align: left;\n",
       "    }\n",
       "\n",
       "    .dataframe tbody tr th {\n",
       "        vertical-align: top;\n",
       "    }\n",
       "</style>\n",
       "<table border=\"1\" class=\"dataframe\">\n",
       "  <thead>\n",
       "    <tr style=\"text-align: right;\">\n",
       "      <th></th>\n",
       "      <th>id</th>\n",
       "      <th>is_click</th>\n",
       "    </tr>\n",
       "  </thead>\n",
       "  <tbody>\n",
       "    <tr>\n",
       "      <th>0</th>\n",
       "      <td>63_122715</td>\n",
       "      <td>0.011712</td>\n",
       "    </tr>\n",
       "    <tr>\n",
       "      <th>1</th>\n",
       "      <td>56_76206</td>\n",
       "      <td>0.011624</td>\n",
       "    </tr>\n",
       "    <tr>\n",
       "      <th>2</th>\n",
       "      <td>57_96189</td>\n",
       "      <td>0.011369</td>\n",
       "    </tr>\n",
       "    <tr>\n",
       "      <th>3</th>\n",
       "      <td>56_166917</td>\n",
       "      <td>0.011624</td>\n",
       "    </tr>\n",
       "    <tr>\n",
       "      <th>4</th>\n",
       "      <td>56_172838</td>\n",
       "      <td>0.011624</td>\n",
       "    </tr>\n",
       "    <tr>\n",
       "      <th>5</th>\n",
       "      <td>71_50253</td>\n",
       "      <td>0.011572</td>\n",
       "    </tr>\n",
       "    <tr>\n",
       "      <th>6</th>\n",
       "      <td>76_128244</td>\n",
       "      <td>0.011191</td>\n",
       "    </tr>\n",
       "    <tr>\n",
       "      <th>7</th>\n",
       "      <td>74_195513</td>\n",
       "      <td>0.011709</td>\n",
       "    </tr>\n",
       "    <tr>\n",
       "      <th>8</th>\n",
       "      <td>67_74617</td>\n",
       "      <td>0.010773</td>\n",
       "    </tr>\n",
       "    <tr>\n",
       "      <th>9</th>\n",
       "      <td>75_140599</td>\n",
       "      <td>0.011363</td>\n",
       "    </tr>\n",
       "    <tr>\n",
       "      <th>10</th>\n",
       "      <td>63_124394</td>\n",
       "      <td>0.011712</td>\n",
       "    </tr>\n",
       "    <tr>\n",
       "      <th>11</th>\n",
       "      <td>63_95168</td>\n",
       "      <td>0.011712</td>\n",
       "    </tr>\n",
       "    <tr>\n",
       "      <th>12</th>\n",
       "      <td>74_90706</td>\n",
       "      <td>0.011709</td>\n",
       "    </tr>\n",
       "    <tr>\n",
       "      <th>13</th>\n",
       "      <td>63_31556</td>\n",
       "      <td>0.011712</td>\n",
       "    </tr>\n",
       "    <tr>\n",
       "      <th>14</th>\n",
       "      <td>57_166505</td>\n",
       "      <td>0.011369</td>\n",
       "    </tr>\n",
       "    <tr>\n",
       "      <th>15</th>\n",
       "      <td>64_2089</td>\n",
       "      <td>0.011278</td>\n",
       "    </tr>\n",
       "    <tr>\n",
       "      <th>16</th>\n",
       "      <td>74_133849</td>\n",
       "      <td>0.011709</td>\n",
       "    </tr>\n",
       "    <tr>\n",
       "      <th>17</th>\n",
       "      <td>74_7486</td>\n",
       "      <td>0.011709</td>\n",
       "    </tr>\n",
       "    <tr>\n",
       "      <th>18</th>\n",
       "      <td>57_159015</td>\n",
       "      <td>0.011369</td>\n",
       "    </tr>\n",
       "    <tr>\n",
       "      <th>19</th>\n",
       "      <td>64_111872</td>\n",
       "      <td>0.011278</td>\n",
       "    </tr>\n",
       "    <tr>\n",
       "      <th>20</th>\n",
       "      <td>56_176763</td>\n",
       "      <td>0.011624</td>\n",
       "    </tr>\n",
       "    <tr>\n",
       "      <th>21</th>\n",
       "      <td>71_8316</td>\n",
       "      <td>0.011572</td>\n",
       "    </tr>\n",
       "    <tr>\n",
       "      <th>22</th>\n",
       "      <td>69_133308</td>\n",
       "      <td>0.011581</td>\n",
       "    </tr>\n",
       "    <tr>\n",
       "      <th>23</th>\n",
       "      <td>74_50984</td>\n",
       "      <td>0.011709</td>\n",
       "    </tr>\n",
       "    <tr>\n",
       "      <th>24</th>\n",
       "      <td>76_64692</td>\n",
       "      <td>0.011191</td>\n",
       "    </tr>\n",
       "    <tr>\n",
       "      <th>25</th>\n",
       "      <td>64_184811</td>\n",
       "      <td>0.011278</td>\n",
       "    </tr>\n",
       "    <tr>\n",
       "      <th>26</th>\n",
       "      <td>57_81487</td>\n",
       "      <td>0.011369</td>\n",
       "    </tr>\n",
       "    <tr>\n",
       "      <th>27</th>\n",
       "      <td>57_41624</td>\n",
       "      <td>0.011369</td>\n",
       "    </tr>\n",
       "    <tr>\n",
       "      <th>28</th>\n",
       "      <td>71_95059</td>\n",
       "      <td>0.011572</td>\n",
       "    </tr>\n",
       "    <tr>\n",
       "      <th>29</th>\n",
       "      <td>71_25044</td>\n",
       "      <td>0.011572</td>\n",
       "    </tr>\n",
       "    <tr>\n",
       "      <th>...</th>\n",
       "      <td>...</td>\n",
       "      <td>...</td>\n",
       "    </tr>\n",
       "    <tr>\n",
       "      <th>773828</th>\n",
       "      <td>56_47638</td>\n",
       "      <td>0.011624</td>\n",
       "    </tr>\n",
       "    <tr>\n",
       "      <th>773829</th>\n",
       "      <td>57_199696</td>\n",
       "      <td>0.011369</td>\n",
       "    </tr>\n",
       "    <tr>\n",
       "      <th>773830</th>\n",
       "      <td>56_162289</td>\n",
       "      <td>0.011624</td>\n",
       "    </tr>\n",
       "    <tr>\n",
       "      <th>773831</th>\n",
       "      <td>69_145085</td>\n",
       "      <td>0.011581</td>\n",
       "    </tr>\n",
       "    <tr>\n",
       "      <th>773832</th>\n",
       "      <td>74_233054</td>\n",
       "      <td>0.011709</td>\n",
       "    </tr>\n",
       "    <tr>\n",
       "      <th>773833</th>\n",
       "      <td>63_42227</td>\n",
       "      <td>0.011712</td>\n",
       "    </tr>\n",
       "    <tr>\n",
       "      <th>773834</th>\n",
       "      <td>74_238916</td>\n",
       "      <td>0.011709</td>\n",
       "    </tr>\n",
       "    <tr>\n",
       "      <th>773835</th>\n",
       "      <td>64_67184</td>\n",
       "      <td>0.011278</td>\n",
       "    </tr>\n",
       "    <tr>\n",
       "      <th>773836</th>\n",
       "      <td>63_64538</td>\n",
       "      <td>0.011712</td>\n",
       "    </tr>\n",
       "    <tr>\n",
       "      <th>773837</th>\n",
       "      <td>71_83603</td>\n",
       "      <td>0.011572</td>\n",
       "    </tr>\n",
       "    <tr>\n",
       "      <th>773838</th>\n",
       "      <td>57_13091</td>\n",
       "      <td>0.011369</td>\n",
       "    </tr>\n",
       "    <tr>\n",
       "      <th>773839</th>\n",
       "      <td>63_216162</td>\n",
       "      <td>0.011712</td>\n",
       "    </tr>\n",
       "    <tr>\n",
       "      <th>773840</th>\n",
       "      <td>63_111877</td>\n",
       "      <td>0.011712</td>\n",
       "    </tr>\n",
       "    <tr>\n",
       "      <th>773841</th>\n",
       "      <td>63_163766</td>\n",
       "      <td>0.011712</td>\n",
       "    </tr>\n",
       "    <tr>\n",
       "      <th>773842</th>\n",
       "      <td>74_40948</td>\n",
       "      <td>0.011709</td>\n",
       "    </tr>\n",
       "    <tr>\n",
       "      <th>773843</th>\n",
       "      <td>74_59284</td>\n",
       "      <td>0.011709</td>\n",
       "    </tr>\n",
       "    <tr>\n",
       "      <th>773844</th>\n",
       "      <td>64_232176</td>\n",
       "      <td>0.011278</td>\n",
       "    </tr>\n",
       "    <tr>\n",
       "      <th>773845</th>\n",
       "      <td>69_65847</td>\n",
       "      <td>0.011581</td>\n",
       "    </tr>\n",
       "    <tr>\n",
       "      <th>773846</th>\n",
       "      <td>76_200174</td>\n",
       "      <td>0.011191</td>\n",
       "    </tr>\n",
       "    <tr>\n",
       "      <th>773847</th>\n",
       "      <td>57_191488</td>\n",
       "      <td>0.011369</td>\n",
       "    </tr>\n",
       "    <tr>\n",
       "      <th>773848</th>\n",
       "      <td>69_42153</td>\n",
       "      <td>0.011581</td>\n",
       "    </tr>\n",
       "    <tr>\n",
       "      <th>773849</th>\n",
       "      <td>57_127883</td>\n",
       "      <td>0.011369</td>\n",
       "    </tr>\n",
       "    <tr>\n",
       "      <th>773850</th>\n",
       "      <td>55_153170</td>\n",
       "      <td>0.011024</td>\n",
       "    </tr>\n",
       "    <tr>\n",
       "      <th>773851</th>\n",
       "      <td>57_4034</td>\n",
       "      <td>0.011369</td>\n",
       "    </tr>\n",
       "    <tr>\n",
       "      <th>773852</th>\n",
       "      <td>74_80370</td>\n",
       "      <td>0.011709</td>\n",
       "    </tr>\n",
       "    <tr>\n",
       "      <th>773853</th>\n",
       "      <td>74_202929</td>\n",
       "      <td>0.011709</td>\n",
       "    </tr>\n",
       "    <tr>\n",
       "      <th>773854</th>\n",
       "      <td>56_95437</td>\n",
       "      <td>0.011624</td>\n",
       "    </tr>\n",
       "    <tr>\n",
       "      <th>773855</th>\n",
       "      <td>63_11063</td>\n",
       "      <td>0.011712</td>\n",
       "    </tr>\n",
       "    <tr>\n",
       "      <th>773856</th>\n",
       "      <td>72_144182</td>\n",
       "      <td>0.011564</td>\n",
       "    </tr>\n",
       "    <tr>\n",
       "      <th>773857</th>\n",
       "      <td>57_226299</td>\n",
       "      <td>0.011369</td>\n",
       "    </tr>\n",
       "  </tbody>\n",
       "</table>\n",
       "<p>773858 rows × 2 columns</p>\n",
       "</div>"
      ],
      "text/plain": [
       "               id  is_click\n",
       "0       63_122715  0.011712\n",
       "1        56_76206  0.011624\n",
       "2        57_96189  0.011369\n",
       "3       56_166917  0.011624\n",
       "4       56_172838  0.011624\n",
       "5        71_50253  0.011572\n",
       "6       76_128244  0.011191\n",
       "7       74_195513  0.011709\n",
       "8        67_74617  0.010773\n",
       "9       75_140599  0.011363\n",
       "10      63_124394  0.011712\n",
       "11       63_95168  0.011712\n",
       "12       74_90706  0.011709\n",
       "13       63_31556  0.011712\n",
       "14      57_166505  0.011369\n",
       "15        64_2089  0.011278\n",
       "16      74_133849  0.011709\n",
       "17        74_7486  0.011709\n",
       "18      57_159015  0.011369\n",
       "19      64_111872  0.011278\n",
       "20      56_176763  0.011624\n",
       "21        71_8316  0.011572\n",
       "22      69_133308  0.011581\n",
       "23       74_50984  0.011709\n",
       "24       76_64692  0.011191\n",
       "25      64_184811  0.011278\n",
       "26       57_81487  0.011369\n",
       "27       57_41624  0.011369\n",
       "28       71_95059  0.011572\n",
       "29       71_25044  0.011572\n",
       "...           ...       ...\n",
       "773828   56_47638  0.011624\n",
       "773829  57_199696  0.011369\n",
       "773830  56_162289  0.011624\n",
       "773831  69_145085  0.011581\n",
       "773832  74_233054  0.011709\n",
       "773833   63_42227  0.011712\n",
       "773834  74_238916  0.011709\n",
       "773835   64_67184  0.011278\n",
       "773836   63_64538  0.011712\n",
       "773837   71_83603  0.011572\n",
       "773838   57_13091  0.011369\n",
       "773839  63_216162  0.011712\n",
       "773840  63_111877  0.011712\n",
       "773841  63_163766  0.011712\n",
       "773842   74_40948  0.011709\n",
       "773843   74_59284  0.011709\n",
       "773844  64_232176  0.011278\n",
       "773845   69_65847  0.011581\n",
       "773846  76_200174  0.011191\n",
       "773847  57_191488  0.011369\n",
       "773848   69_42153  0.011581\n",
       "773849  57_127883  0.011369\n",
       "773850  55_153170  0.011024\n",
       "773851    57_4034  0.011369\n",
       "773852   74_80370  0.011709\n",
       "773853  74_202929  0.011709\n",
       "773854   56_95437  0.011624\n",
       "773855   63_11063  0.011712\n",
       "773856  72_144182  0.011564\n",
       "773857  57_226299  0.011369\n",
       "\n",
       "[773858 rows x 2 columns]"
      ]
     },
     "execution_count": 23,
     "metadata": {},
     "output_type": "execute_result"
    }
   ],
   "source": [
    "submission1"
   ]
  },
  {
   "cell_type": "code",
   "execution_count": 24,
   "metadata": {},
   "outputs": [],
   "source": [
    "submission1 = submission.to_csv('submission1.csv',index=False)"
   ]
  },
  {
   "cell_type": "markdown",
   "metadata": {},
   "source": [
    "# Hopefully works Ensemble"
   ]
  },
  {
   "cell_type": "code",
   "execution_count": 25,
   "metadata": {},
   "outputs": [],
   "source": [
    "from sklearn.linear_model import LogisticRegression\n",
    "from sklearn.ensemble import RandomForestClassifier\n",
    "from sklearn.metrics import accuracy_score\n",
    "clf = RandomForestClassifier(max_depth=2, random_state=0)\n",
    "\n",
    "\n",
    "y = train['click']\n",
    "# train the model using X_dtm & y\n",
    "clf.fit(X_train, y)\n",
    "# compute the training accuracy\n",
    "#y_pred_X = logreg.predict(X_dtm)\n",
    "#print('Training accuracy is {}'.format(accuracy_score(y, y_pred_X)))\n",
    "# compute the predicted probabilities for X_test_dtm\n",
    "test_y_prob = clf.predict_proba(X_test)[:,1]\n",
    "submission2['is_click'] = test_y_prob"
   ]
  },
  {
   "cell_type": "code",
   "execution_count": 26,
   "metadata": {},
   "outputs": [],
   "source": [
    "submission2 = submission2.to_csv('submission2.csv',index=False)"
   ]
  },
  {
   "cell_type": "markdown",
   "metadata": {},
   "source": [
    "# Another Ensemble"
   ]
  },
  {
   "cell_type": "code",
   "execution_count": 27,
   "metadata": {},
   "outputs": [],
   "source": [
    "from sklearn.ensemble import AdaBoostClassifier\n",
    "\n",
    "seed = 7\n",
    "num_trees = 30\n",
    "#kfold = model_selection.KFold(n_splits=10, random_state=seed)\n",
    "model = AdaBoostClassifier(n_estimators=num_trees, random_state=seed)\n",
    "# results = model_selection.cross_val_score(model, X_train, y_train, cv=kfold)\n",
    "# print(results.mean())\n",
    "\n",
    "model.fit(X_train, y)\n",
    "# compute the training accuracy\n",
    "#y_pred_X = logreg.predict(X_dtm)\n",
    "#print('Training accuracy is {}'.format(accuracy_score(y, y_pred_X)))\n",
    "# compute the predicted probabilities for X_test_dtm\n",
    "test_y_prob = model.predict_proba(X_test)[:,1]\n",
    "submission3['is_click'] = test_y_prob"
   ]
  },
  {
   "cell_type": "code",
   "execution_count": 28,
   "metadata": {},
   "outputs": [],
   "source": [
    "submission3 = submission3.to_csv('submission3.csv',index=False)"
   ]
  },
  {
   "cell_type": "code",
   "execution_count": 29,
   "metadata": {},
   "outputs": [],
   "source": [
    "from sklearn.ensemble import GradientBoostingClassifier\n",
    "model2 = GradientBoostingClassifier(n_estimators=num_trees, random_state=seed)\n",
    "\n",
    "model2.fit(X_train, y)\n",
    "# compute the training accuracy\n",
    "#y_pred_X = logreg.predict(X_dtm)\n",
    "#print('Training accuracy is {}'.format(accuracy_score(y, y_pred_X)))\n",
    "# compute the predicted probabilities for X_test_dtm\n",
    "test_y_prob = model2.predict_proba(X_test)[:,1]\n",
    "submission4['is_click'] = test_y_prob"
   ]
  },
  {
   "cell_type": "code",
   "execution_count": 30,
   "metadata": {},
   "outputs": [],
   "source": [
    "submission4 = submission4.to_csv('submission4.csv',index=False)"
   ]
  },
  {
   "cell_type": "markdown",
   "metadata": {},
   "source": [
    "# Genetic Algos"
   ]
  },
  {
   "cell_type": "code",
   "execution_count": null,
   "metadata": {},
   "outputs": [
    {
     "name": "stderr",
     "output_type": "stream",
     "text": [
      "c:\\users\\admin\\appdata\\local\\programs\\python\\python36\\lib\\site-packages\\deap\\tools\\_hypervolume\\pyhv.py:33: ImportWarning:\n",
      "\n",
      "Falling back to the python version of hypervolume module. Expect this to be very slow.\n",
      "\n",
      "c:\\users\\admin\\appdata\\local\\programs\\python\\python36\\lib\\importlib\\_bootstrap.py:205: ImportWarning:\n",
      "\n",
      "can't resolve package from __spec__ or __package__, falling back on __name__ and __path__\n",
      "\n",
      "Optimization Progress:  30%|█████████████▉                                | 91/300 [3:07:11<12:02:49, 207.51s/pipeline]"
     ]
    }
   ],
   "source": [
    "\n",
    "from tpot import TPOTRegressor\n",
    "\n",
    "tpot = TPOTRegressor(generations=5, population_size=50, verbosity=2)\n",
    "\n",
    "#tpot.fit(X_train, y_train)\n",
    "\n",
    "#print(tpot.score(X_test, y_test))\n",
    "\n",
    "\n",
    "\n",
    "y = train['click']\n",
    "# train the model using X_dtm & y\n",
    "tpot.fit(X_train, y)\n",
    "# compute the training accuracy\n",
    "#y_pred_X = logreg.predict(X_dtm)\n",
    "#print('Training accuracy is {}'.format(accuracy_score(y, y_pred_X)))\n",
    "# compute the predicted probabilities for X_test_dtm\n",
    "test_y_prob = tpot.predict_proba(X_test)[:,1]\n",
    "submission5['is_click'] = test_y_prob"
   ]
  },
  {
   "cell_type": "code",
   "execution_count": null,
   "metadata": {},
   "outputs": [],
   "source": [
    "submission5 = submission5.to_csv('submission5.csv',index=False)"
   ]
  },
  {
   "cell_type": "markdown",
   "metadata": {},
   "source": [
    "# Its DL time"
   ]
  },
  {
   "cell_type": "code",
   "execution_count": null,
   "metadata": {},
   "outputs": [],
   "source": [
    "from keras.models import Model\n",
    "from keras.models import Sequential\n",
    "\n",
    "from keras.layers import Dense, Embedding, Input\n",
    "from keras.layers import LSTM, Bidirectional, GlobalMaxPool1D, Dropout\n",
    "from keras.preprocessing import text, sequence\n",
    "from keras.callbacks import EarlyStopping, ModelCheckpoint\n",
    "from keras.layers import TimeDistributed"
   ]
  },
  {
   "cell_type": "code",
   "execution_count": null,
   "metadata": {},
   "outputs": [],
   "source": []
  }
 ],
 "metadata": {
  "kernelspec": {
   "display_name": "Python 3",
   "language": "python",
   "name": "python3"
  },
  "language_info": {
   "codemirror_mode": {
    "name": "ipython",
    "version": 3
   },
   "file_extension": ".py",
   "mimetype": "text/x-python",
   "name": "python",
   "nbconvert_exporter": "python",
   "pygments_lexer": "ipython3",
   "version": "3.6.2"
  }
 },
 "nbformat": 4,
 "nbformat_minor": 2
}
